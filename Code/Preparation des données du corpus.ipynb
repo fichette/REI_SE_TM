{
 "cells": [
  {
   "cell_type": "code",
   "execution_count": null,
   "metadata": {
    "collapsed": true
   },
   "outputs": [],
   "source": [
    "from __future__ import unicode_literals\n",
    "import os\n",
    "from gensim import corpora, models\n",
    "import string\n",
    "import nltk\n",
    "import numpy as np\n",
    "from langdetect import detect\n",
    "import re\n",
    "import pickle\n",
    "from pattern.text.fr import parse\n",
    "import math\n"
   ]
  },
  {
   "cell_type": "code",
   "execution_count": null,
   "metadata": {
    "collapsed": true
   },
   "outputs": [],
   "source": [
    "def lemmatization(content_file):\n",
    "    content_file = parse(content_file, relations=True, lemmata=True).split(\" \")\n",
    "    res = [elt.split(\"/\")[5] for elt in content_file]\n",
    "    return \" \".join(res)\n",
    "\n",
    "\n",
    "from nltk.stem.snowball import FrenchStemmer\n",
    "stemmer = FrenchStemmer()\n",
    "\n",
    "\n",
    "\n",
    "import codecs\n",
    "file_stopwords = codecs.open(\"frenchST.txt\",\"r\", encoding=\"utf-8\")\n",
    "stopwords = file_stopwords.read().split(\"\\n\")\n",
    "file_stopwords.close()\n",
    "\n",
    "\n",
    "ponctuation = set(string.punctuation)\n",
    "\n",
    "def remove_infrequent_words(content_file, min_freq):\n",
    "    content_file = np.array(content_file.split())\n",
    "    freq_dist = nltk.FreqDist(content_file)\n",
    "    for elt in freq_dist:\n",
    "        if freq_dist[elt] < min_freq:\n",
    "            content_file = np.delete(content_file, np.where(content_file == elt)[0])\n",
    "    return ' '.join(content_file)\n",
    "\n",
    "def stemming(content_file):\n",
    "    content_file = content_file.split()\n",
    "    for word in range(len(content_file)):\n",
    "        content_file[word] = stemmer.stem(content_file[word].decode(\"utf-8\"))\n",
    "    return ' '.join(content_file)\n",
    "\n",
    "\n",
    "\n",
    "def preprocess_data_file(content_file):\n",
    "    content_file = content_file.lower()\n",
    "    content_file = content_file.replace('’', \" \")\n",
    "    content_file = content_file.replace('«', \" \")\n",
    "    content_file = content_file.replace('»', \" \")\n",
    "    content_file = content_file.replace('—', \" \")\n",
    "    content_file = content_file.replace('\\'', \" \")\n",
    "    content_file = content_file.replace('©', \" \")\n",
    "    content_file = content_file.replace('–', \" \")\n",
    "    content_file = content_file.replace('¿', \" \")\n",
    "    content_file = re.sub(\"[0-9]+\", \" \", content_file)\n",
    "    content_file = ''.join(char for char in content_file if char not in ponctuation) #remove ponctuation\n",
    "    content_file = remove_infrequent_words(content_file, 2)\n",
    "    #content_file = stemming(content_file)\n",
    "    return content_file\n",
    "\n",
    "\n",
    "chemin_corpus = os.getcwd()+\"/Subset/\"\n",
    "print chemin_corpus\n",
    "list_dir = os.listdir(chemin_corpus)\n",
    "infopath = []\n",
    "infolength=[]\n",
    "texts  =[]\n",
    "\n",
    "for dir_annee in list_dir:\n",
    "    sub_dirs_annee = os.listdir(chemin_corpus+dir_annee)\n",
    "    for sub_dir in sub_dirs_annee:\n",
    "        print sub_dir\n",
    "        sub_sub_dirs = os.listdir(chemin_corpus+dir_annee+\"/\"+sub_dir)\n",
    "        for sub_sub_dir in sub_sub_dirs:\n",
    "            files = os.listdir(chemin_corpus+dir_annee+\"/\"+sub_dir+\"/\"+sub_sub_dir)\n",
    "            for f in files:\n",
    "                if os.stat(chemin_corpus+dir_annee+\"/\"+sub_dir+\"/\"+sub_sub_dir+\"/\"+f).st_size!=0:\n",
    "                    open_file = codecs.open(chemin_corpus+dir_annee+\"/\"+sub_dir+\"/\"+sub_sub_dir+\"/\"+f, \"r\", encoding=\"utf-8\")\n",
    "                    content_file = open_file.read()\n",
    "                    if detect(content_file)== \"fr\": #Detecter la langue\n",
    "                        content_file = lemmatization(content_file)\n",
    "                        content_file = preprocess_data_file(content_file)\n",
    "                        content_file2 = []\n",
    "                        for word in content_file.lower().split():\n",
    "                            existe = False\n",
    "                            for stopword in stopwords:\n",
    "                                if word == stopword:\n",
    "                                    existe = True\n",
    "                                    break\n",
    "                            if existe != True:\n",
    "                                content_file2.append(word)\n",
    "\n",
    "                        content_file = content_file2\n",
    "\n",
    "                        # Eliminer les fichiers qui après pré-traitement deviennent trop petits\n",
    "                        if len(content_file) > 5:\n",
    "                            texts.append(content_file)\n",
    "                            # print ' '.join(content_file)\n",
    "                            # print\n",
    "                            info = []\n",
    "                            infopath.append(chemin_corpus+dir_annee+\"/\"+sub_dir+\"/\"+sub_sub_dir+\"/\"+f)\n",
    "                            infolength.append(len(content_file))\n",
    "                    open_file.close()\n",
    "\n"
   ]
  },
  {
   "cell_type": "code",
   "execution_count": null,
   "metadata": {
    "collapsed": true
   },
   "outputs": [],
   "source": [
    "import unicodedata\n",
    "texts = [[unicodedata.normalize('NFD', word).encode('ascii', 'ignore') for word in text] for text in texts]"
   ]
  },
  {
   "cell_type": "code",
   "execution_count": null,
   "metadata": {
    "collapsed": true
   },
   "outputs": [],
   "source": [
    "# Enregistrer texts\n",
    "pickle.dump(texts, open(os.getcwd()+\"/10000/texts.obj\", \"wb\"))\n",
    "pickle.dump(infopath, open(os.getcwd()+\"/10000/infopath.obj\", \"wb\"))\n",
    "pickle.dump(infolength, open(os.getcwd()+\"/10000/infolength.obj\", \"wb\"))"
   ]
  }
 ],
 "metadata": {
  "kernelspec": {
   "display_name": "Python [Root]",
   "language": "python",
   "name": "Python [Root]"
  },
  "language_info": {
   "codemirror_mode": {
    "name": "ipython",
    "version": 2
   },
   "file_extension": ".py",
   "mimetype": "text/x-python",
   "name": "python",
   "nbconvert_exporter": "python",
   "pygments_lexer": "ipython2",
   "version": "2.7.12"
  }
 },
 "nbformat": 4,
 "nbformat_minor": 1
}
